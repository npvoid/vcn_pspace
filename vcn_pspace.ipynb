{
 "cells": [
  {
   "cell_type": "code",
   "execution_count": 16,
   "metadata": {
    "collapsed": true
   },
   "outputs": [],
   "source": [
    "%matplotlib inline\n",
    "from scipy.ndimage.filters import gaussian_filter\n",
    "from brian2 import *\n",
    "from ipywidgets import interact, interactive, fixed\n",
    "import ipywidgets\n",
    "import numpy as np\n",
    "from collections import OrderedDict\n",
    "import matplotlib.pyplot as plt\n",
    "import matplotlib.cm as cm\n",
    "import matplotlib.colors as colors"
    "from scipy.ndimage.interpolation import zoom"
   ]
  },
  {
   "cell_type": "code",
   "execution_count": 17,
   "metadata": {
    "collapsed": true
   },
   "outputs": [],
   "source": [
    "def nan_gaussian_filter(x, sigma, num_passes):\n",
    "    z = full_like(x, nan)\n",
    "    for cursigma in linspace(sigma, 0, num_passes + 1)[:-1]:\n",
    "        y = gaussian_filter(x, cursigma, mode='nearest')\n",
    "        z[isnan(z)] = y[isnan(z)]\n",
    "    return z"
   ]
  },
  {
   "cell_type": "code",
   "execution_count": 18,
   "metadata": {
    "collapsed": true
   },
   "outputs": [],
   "source": [
    "def sim(tau, t_ref, fr_exc, alpha,  beta, fr_inh, quality, max_mu):\n",
    "    start_scope()\n",
    "\n",
    "    if quality == 0:\n",
    "        N = 15\n",
    "        duration = 50 * ms\n",
    "        skip_time = 25 * ms\n",
    "        blur_width = 0.05\n",
    "        N_syn_exc = 20  # Max number of excitatory inputs\n",
    "        N_w_exc = 20  # Max number of different input weights tested\n",
    "    elif quality == 1:\n",
    "        N = 20\n",
    "        duration = 100 * ms\n",
    "        skip_time = 50 * ms\n",
    "        blur_width = 0.1\n",
    "        N_syn_exc = 25  # Max number of excitatory inputs\n",
    "        N_w_exc = 25  # Max number of different input weights tested\n",
    "    elif quality == 2:\n",
    "        N = 30\n",
    "        duration = 250 * ms\n",
    "        skip_time = 50 * ms\n",
    "        blur_width = 0.1\n",
    "        N_syn_exc = 30  # Max number of excitatory inputs\n",
    "        N_w_exc = 30  # Max number of different input weights tested\n",
    "    elif quality == 3:\n",
    "        N = 40\n",
    "        duration = 800 * ms\n",
    "        skip_time = 100 * ms\n",
    "        blur_width = 0.05\n",
    "        N_syn_exc = 30  # Max number of excitatory inputs\n",
    "        N_w_exc = 30  # Max number of different input weights tested\n",
    "\n",
    "    # Excitatory Parameters\n",
    "\n",
    "    tau = tau * ms\n",
    "    t_ref = t_ref * ms\n",
    "\n",
    "    max_syn_exc = 80\n",
    "    sy_exc_v = np.linspace(0, max_syn_exc, N_syn_exc)\n",
    "    v_exc_v = linspace(0, max_mu / (tau * fr_exc), N_w_exc)\n",
    "\n",
    "    n_mu = v_exc_v.size\n",
    "    n_sigma = sy_exc_v.size\n",
    "\n",
    "    # Equation for each Cell\n",
    "    eqs = '''\n",
    "        dv/dt = (mu-v)/tau+sigma*xi*tau**-0.5 : 1 (unless refractory)\n",
    "        mu : 1\n",
    "        sigma: 1\n",
    "        '''\n",
    "\n",
    "    # Simulation for  N*n_mu*n_sigma cells for each possible combination of sigma and mu\n",
    "    G = NeuronGroup(N * n_mu * n_sigma, eqs, threshold='v>1', reset='v=0', refractory=t_ref, method='euler')\n",
    "    M = SpikeMonitor(G)\n",
    "\n",
    "    sy_exc = np.repeat(sy_exc_v, v_exc_v.size * N)\n",
    "    w_exc = np.tile(v_exc_v, sy_exc_v.size * N) / sy_exc\n",
    "    sy_inh = sy_exc * alpha\n",
    "    w_inh = w_exc * beta\n",
    "\n",
    "    G.mu = np.asarray(tau * ((w_exc * sy_exc * fr_exc) - (w_inh * sy_inh * fr_inh)))\n",
    "    G.sigma = np.sqrt(np.asarray(tau * (w_exc ** 2 * sy_exc * fr_exc + w_inh ** 2 * sy_inh * fr_inh)))\n",
    "\n",
    "    run(duration)\n",
    "\n",
    "    # Results Analysis\n",
    "    SpikeTrains = M.spike_trains()\n",
    "    CV_v = np.zeros((N * n_mu * n_sigma))\n",
    "    FR_v = np.zeros((N * n_mu * n_sigma))\n",
    "\n",
    "    #   Obtain CV value for each simulated Cell and store them in CV_v vector\n",
    "    for index in range(N * n_mu * n_sigma):\n",
    "        T = SpikeTrains[index]\n",
    "        T = T[T > skip_time]\n",
    "        SpikeTrains[index] = np.diff(np.sort(T))\n",
    "        CV_v[index] = divide(np.std(SpikeTrains[index]), np.mean(SpikeTrains[index]))\n",
    "        FR_v[index] = np.size(T) / (duration - skip_time)\n",
    "\n",
    "        # Store the CV-averaged value in a matrix CV[i, j]\n",
    "        # where i is the index of G.mu and j the index ofG.sigma\n",
    "    CV = np.zeros((n_mu, n_sigma))\n",
    "    FR = np.zeros((n_mu, n_sigma))\n",
    "    tmp_CV = 0\n",
    "    tmp_FR = 0\n",
    "\n",
    "    for i in range(n_mu):\n",
    "        for j in range(n_sigma):\n",
    "            for k in range(N):\n",
    "                tmp_CV += CV_v[i * n_sigma * N + j + k * n_sigma]\n",
    "                tmp_FR += FR_v[i * n_sigma * N + j + k * n_sigma]\n",
    "            CV[i, j] = tmp_CV / N\n",
    "            FR[i, j] = tmp_FR / N\n",
    "            tmp_CV = 0\n",
    "            tmp_FR = 0\n",
    "\n",
    "    # Graph Axis\n",
    "    max_sy = amax(sy_exc_v)\n",
    "    min_sy = amin(sy_exc_v)\n",
    "    max_w = max_mu\n",
    "    min_w = 0\n",
    "\n",
    "    plot_CV(CV, FR, min_sy, max_sy, min_w, max_w, blur_width, N)\n",
    "    return"
   ]
  },
  {
   "cell_type": "code",
   "execution_count": 19,
   "metadata": {
    "collapsed": true
   },
   "outputs": [],
   "source": [
    "def plot_CV(CV, FR, min_sy, max_sy, min_w, max_w, blur_width, N):\n",
    "    ax = plt.gca()\n",
    "    ax.set_axis_bgcolor('grey')\n",
    "    CV = nan_gaussian_filter(CV, blur_width * CV.shape[0], 10)\n",
    "    FR = nan_gaussian_filter(FR, blur_width * FR.shape[0], 10)\n",
    "    CV = zoom(CV, 100./N, order=1)\n",
    "    FR = zoom(FR, 100./N, order=1)\n",
    "    im = plt.imshow(CV, interpolation='nearest', origin='lower left', aspect='auto',\n",
    "                    cmap=cm.YlGnBu_r, extent=(min_w, max_w, min_sy, max_sy), norm=colors.Normalize(0, 1))\n",
    "    # ylabel(r'$\\Number of Excitatory Inputs$')\n",
    "    # xlabel(r'$\\Average excitatory input weight/\\mu$')\n",
    "\n",
    "    levels_CV = np.array([0.35, 0.8])\n",
    "    CS = plt.contour(CV, levels_CV,\n",
    "                     origin='lower',\n",
    "                     linewidths=2,\n",
    "                     extent=(min_w, max_w, min_sy, max_sy))\n",
    "    plt.clabel(CS, levels_CV[0:2],\n",
    "               inline=1,\n",
    "               fmt='%1.1f',\n",
    "               fontsize=14)\n",
    "\n",
    "    levels_FR = np.array([50, 400])\n",
    "    CS = plt.contour(FR, levels_FR,\n",
    "                     origin='lower',\n",
    "                     linewidths=2,\n",
    "                     extent=(min_w, max_w, min_sy, max_sy),\n",
    "                     linestyles='dashed')\n",
    "    plt.clabel(CS, levels_FR[0:2],\n",
    "               inline=1,\n",
    "               fmt='%1.1f',\n",
    "               fontsize=14)\n",
    "\n",
    "    # make a colorbar for the image\n",
    "    cb = plt.colorbar(im, orientation='horizontal', shrink=0.8)\n",
    "    cb.set_label('CV', rotation=0, labelpad=20)\n",
    "    return"
   ]
  },
  {
   "cell_type": "code",
   "execution_count": 20,
   "metadata": {
    "collapsed": false
   },
   "outputs": [
    {
     "name": "stderr",
     "output_type": "stream",
     "text": [
      "WARNING    /home/main/anaconda2/lib/python2.7/site-packages/ipykernel/__main__.py:57: RuntimeWarning: divide by zero encountered in divide\n",
      " [py.warnings]\n",
      "WARNING    /home/main/anaconda2/lib/python2.7/site-packages/ipykernel/__main__.py:57: RuntimeWarning: invalid value encountered in divide\n",
      " [py.warnings]\n",
      "WARNING    /home/main/anaconda2/lib/python2.7/site-packages/ipykernel/__main__.py:61: RuntimeWarning: invalid value encountered in multiply\n",
      " [py.warnings]\n",
      "WARNING    /home/main/anaconda2/lib/python2.7/site-packages/ipykernel/__main__.py:62: RuntimeWarning: invalid value encountered in multiply\n",
      " [py.warnings]\n"
     ]
    },
    {
     "data": {
      "image/png": "iVBORw0KGgoAAAANSUhEUgAAAXEAAAEOCAYAAAB/8yewAAAABHNCSVQICAgIfAhkiAAAAAlwSFlz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\npZTKYhrElVIqi/1/w/53KIDbcY4AAAAASUVORK5CYII=\n",
      "text/plain": [
       "<matplotlib.figure.Figure at 0x7f5b1301fd50>"
      ]
     },
     "metadata": {},
     "output_type": "display_data"
    }
   ],
   "source": [
    "    interact(sim,\n",
    "             tau=ipywidgets.FloatSlider(value=5, min=0.1, max=20, step=0.1, continuous_update=False,\n",
    "                                        description=r\"$\\tau$ (ms)\"),\n",
    "             t_ref=ipywidgets.FloatSlider(value=0.1, min=0, max=5, step=0.1, continuous_update=False,\n",
    "                                          description=r\"refractory (ms)\"),\n",
    "             fr_exc=ipywidgets.FloatSlider(value=50, min=0, max=400, step=50, continuous_update=False,\n",
    "                                           description=r\"Excitatory Firing Rate (sp/s)\"),\n",
    "             alpha=ipywidgets.FloatSlider(value=0.2, min=0, max=1, step=0.1, continuous_update=False,\n",
    "                                          description=r\"Alpha (Number of Inhibitory over Excitatory synapses)\"),\n",
    "             beta=ipywidgets.FloatSlider(value=2, min=0, max=8, step=0.5, continuous_update=False,\n",
    "                                         description=r\"Beta (Weight of Inhibitory over Excitatory synapses)\"),\n",
    "             fr_inh=ipywidgets.FloatSlider(value=50, min=0, max=400, step=50, continuous_update=False,\n",
    "                                           description=r\"Inhibitory Firing Rate (sp/s)\"),\n",
    "             quality=ipywidgets.Dropdown(options=OrderedDict([('Very fast', 0),\n",
    "                                                              ('Fast', 1),\n",
    "                                                              ('Medium', 2),\n",
    "                                                              ('High / slow', 3)]),\n",
    "                                         value=1, description=\"Quality\"),\n",
    "             max_mu=ipywidgets.FloatSlider(value=5, min=0, max=10, step=0.5, continuous_update=False,\n",
    "                                        description=r\"Maximum value of mu\"),\n",
    "             );"
   ]
  }
 ],
 "metadata": {
  "anaconda-cloud": {},
  "kernelspec": {
   "display_name": "Python 2",
   "language": "python",
   "name": "python2"
  },
  "language_info": {
   "codemirror_mode": {
    "name": "ipython",
    "version": 2
   },
   "file_extension": ".py",
   "mimetype": "text/x-python",
   "name": "python",
   "nbconvert_exporter": "python",
   "pygments_lexer": "ipython2",
   "version": "2.7.12"
  }
 },
 "nbformat": 4,
 "nbformat_minor": 0
}
